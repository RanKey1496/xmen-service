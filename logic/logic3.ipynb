{
 "cells": [
  {
   "cell_type": "code",
   "execution_count": 2,
   "metadata": {},
   "outputs": [],
   "source": [
    "def verify_word(potential, i, j, dna, word, positions):\n",
    "    if len(word) == 0:\n",
    "        return True\n",
    "    if potential == 1:\n",
    "        i=i\n",
    "        j=j+1\n",
    "    elif potential == 2:\n",
    "        i=i\n",
    "        j=j-1\n",
    "    elif potential == 3:\n",
    "        i=i-1\n",
    "        j=j\n",
    "    elif potential == 4:\n",
    "        i=i+1\n",
    "        j=j\n",
    "    elif potential == 5:\n",
    "        i=i-1\n",
    "        j=j-1\n",
    "    elif potential == 6:\n",
    "        i=i+1\n",
    "        j=j-1\n",
    "    elif potential == 7:\n",
    "        i=i-1\n",
    "        j=j+1\n",
    "    elif potential == 8:\n",
    "        i=i+1\n",
    "        j=j+1\n",
    "    else:\n",
    "        print(\"lmao wtf error\")\n",
    "    try:\n",
    "        if dna[i][j] == word[0]:\n",
    "            new_word = word[1:]\n",
    "            positions.add(f'{i},{j}')\n",
    "            valid = verify_word(potential, i, j, dna, new_word, positions)\n",
    "            if valid:\n",
    "                return positions\n",
    "        return None\n",
    "    except:\n",
    "        return None"
   ]
  },
  {
   "cell_type": "code",
   "execution_count": 3,
   "metadata": {},
   "outputs": [],
   "source": [
    "def directions(dna, i, j, word):\n",
    "    potential = [\n",
    "        {'id': 1, 'detail': 'right'},\n",
    "        {'id': 2, 'detail': 'left'},\n",
    "        {'id': 3, 'detail': 'up'},\n",
    "        {'id': 4, 'detail': 'down'},\n",
    "        {'id': 5, 'detail': 'upper left'},\n",
    "        {'id': 6, 'detail': 'lower left'},\n",
    "        {'id': 7, 'detail': 'upper right'},\n",
    "        {'id': 8, 'detail': 'lower right'},\n",
    "    ]\n",
    "    new_word = word[1:]\n",
    "    for x in potential:\n",
    "        positions = set()\n",
    "        positions.add(f'{i},{j}')\n",
    "        positions = verify_word(x['id'], i, j, dna, new_word, positions)\n",
    "        if positions:\n",
    "            return positions"
   ]
  },
  {
   "cell_type": "code",
   "execution_count": 4,
   "metadata": {},
   "outputs": [],
   "source": [
    "def is_mutant(dna):\n",
    "    count = []\n",
    "    for i in range(0,len(dna)):\n",
    "        for j in range(0,len(dna[0])):\n",
    "            letter = dna[i][j]\n",
    "            mutant = directions(dna, i, j, f'{letter*4}')\n",
    "            if mutant and mutant not in count:\n",
    "                count.append(mutant)\n",
    "            if len(count) > 1:\n",
    "                print(count)\n",
    "                print('Es mutante')\n",
    "                return True\n",
    "    print('No es mutante')\n",
    "    return False"
   ]
  },
  {
   "cell_type": "code",
   "execution_count": 5,
   "metadata": {},
   "outputs": [
    {
     "name": "stdout",
     "output_type": "stream",
     "text": [
      "[{'0,0', '3,3', '2,2', '1,1'}, {'2,4', '1,4', '3,4', '0,4'}]\n",
      "Es mutante\n",
      "Wall time: 0 ns\n"
     ]
    }
   ],
   "source": [
    "example_dna = [\n",
    "    ['A', 'T', 'G', 'C', 'G', 'A'],\n",
    "    ['C', 'A', 'G', 'T', 'G', 'C'],\n",
    "    ['T', 'T', 'A', 'T', 'G', 'T'],\n",
    "    ['A', 'G', 'A', 'A', 'G', 'G'],\n",
    "    ['C', 'C', 'C', 'C', 'T', 'A'],\n",
    "    ['T', 'C', 'A', 'C', 'T', 'C']\n",
    "]\n",
    "\n",
    "%time _ = is_mutant(example_dna)"
   ]
  },
  {
   "cell_type": "code",
   "execution_count": null,
   "metadata": {},
   "outputs": [],
   "source": []
  },
  {
   "cell_type": "code",
   "execution_count": null,
   "metadata": {},
   "outputs": [],
   "source": []
  }
 ],
 "metadata": {
  "kernelspec": {
   "display_name": "Python 3",
   "language": "python",
   "name": "python3"
  },
  "language_info": {
   "codemirror_mode": {
    "name": "ipython",
    "version": 3
   },
   "file_extension": ".py",
   "mimetype": "text/x-python",
   "name": "python",
   "nbconvert_exporter": "python",
   "pygments_lexer": "ipython3",
   "version": "3.8.3"
  }
 },
 "nbformat": 4,
 "nbformat_minor": 4
}
